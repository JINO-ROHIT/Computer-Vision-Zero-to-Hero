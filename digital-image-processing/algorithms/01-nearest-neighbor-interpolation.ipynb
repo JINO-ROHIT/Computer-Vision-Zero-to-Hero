{
 "cells": [
  {
   "cell_type": "markdown",
   "metadata": {},
   "source": [
    "#### First lets take a look at the output from opencv implementation"
   ]
  },
  {
   "cell_type": "code",
   "execution_count": 10,
   "metadata": {},
   "outputs": [
    {
     "data": {
      "image/png": "[encoded data removed]",
      "text/plain": [
       "<Figure size 1000x500 with 2 Axes>"
      ]
     },
     "metadata": {},
     "output_type": "display_data"
    }
   ],
   "source": [
    "import cv2\n",
    "import matplotlib.pyplot as plt\n",
    "import numpy as np\n",
    "\n",
    "image = np.random.randint(0, 256, (2, 2), dtype=np.uint8)\n",
    "\n",
    "resized_image = cv2.resize(image, (4, 4), interpolation=cv2.INTER_NEAREST)\n",
    "\n",
    "plt.figure(figsize=(10, 5))\n",
    "\n",
    "plt.subplot(1, 2, 1)\n",
    "plt.title(\"Original Image\")\n",
    "plt.imshow(image)\n",
    "plt.axis('off')\n",
    "\n",
    "plt.subplot(1, 2, 2)\n",
    "plt.title(\"Nearest Neighbor Resized\")\n",
    "plt.imshow(resized_image)\n",
    "plt.axis('off')\n",
    "\n",
    "plt.show()"
   ]
  },
  {
   "cell_type": "markdown",
   "metadata": {},
   "source": [
    "#### Now look at the matrices to see how the pixel has been assigned"
   ]
  },
  {
   "cell_type": "code",
   "execution_count": 16,
   "metadata": {},
   "outputs": [
    {
     "name": "stdout",
     "output_type": "stream",
     "text": [
      "[[111 173]\n",
      " [224 215]]\n",
      "\n",
      "\n",
      "\n",
      "[[111 111 173 173]\n",
      " [111 111 173 173]\n",
      " [224 224 215 215]\n",
      " [224 224 215 215]]\n"
     ]
    }
   ],
   "source": [
    "print(image)\n",
    "print('\\n\\n')\n",
    "print(resized_image)"
   ]
  },
  {
   "cell_type": "markdown",
   "metadata": {},
   "source": [
    "#### Our implementation"
   ]
  },
  {
   "cell_type": "code",
   "execution_count": 38,
   "metadata": {},
   "outputs": [],
   "source": [
    "height, width = image.shape\n",
    "\n",
    "new_height, new_width = (4, 4)\n",
    "new_image = np.zeros( (new_height, new_width) )\n",
    "\n",
    "scale_factor = new_height / height\n",
    "\n",
    "for x in range(new_height):\n",
    "    for y in range(new_width):\n",
    "        input_x = int(x / scale_factor)\n",
    "        input_y = int(y / scale_factor)\n",
    "\n",
    "        # print(x, y)\n",
    "        # print(input_x, input_y)\n",
    "        new_image[x, y] = image[input_x, input_y]"
   ]
  },
  {
   "cell_type": "code",
   "execution_count": 39,
   "metadata": {},
   "outputs": [
    {
     "name": "stdout",
     "output_type": "stream",
     "text": [
      "[[111 173]\n",
      " [224 215]]\n",
      "\n",
      "\n",
      "\n",
      "[[111. 111. 173. 173.]\n",
      " [111. 111. 173. 173.]\n",
      " [224. 224. 215. 215.]\n",
      " [224. 224. 215. 215.]]\n"
     ]
    }
   ],
   "source": [
    "print(image)\n",
    "print('\\n\\n')\n",
    "print(new_image)"
   ]
  },
  {
   "cell_type": "code",
   "execution_count": 40,
   "metadata": {},
   "outputs": [
    {
     "data": {
      "text/plain": [
       "True"
      ]
     },
     "execution_count": 40,
     "metadata": {},
     "output_type": "execute_result"
    }
   ],
   "source": [
    "np.array_equal(new_image, resized_image)"
   ]
  },
  {
   "cell_type": "markdown",
   "metadata": {},
   "source": [
    "#### yaaay we got the same answer and interpolation succeeded"
   ]
  }
 ],
 "metadata": {
  "kernelspec": {
   "display_name": ".env",
   "language": "python",
   "name": "python3"
  },
  "language_info": {
   "codemirror_mode": {
    "name": "ipython",
    "version": 3
   },
   "file_extension": ".py",
   "mimetype": "text/x-python",
   "name": "python",
   "nbconvert_exporter": "python",
   "pygments_lexer": "ipython3",
   "version": "3.11.9"
  }
 },
 "nbformat": 4,
 "nbformat_minor": 2
}
